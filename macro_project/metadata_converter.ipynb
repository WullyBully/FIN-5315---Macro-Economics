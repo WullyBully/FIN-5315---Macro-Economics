{
 "cells": [
  {
   "cell_type": "code",
   "execution_count": 12,
   "metadata": {},
   "outputs": [],
   "source": [
    "import pandas as pd\n",
    "\n",
    "def convert_excel_to_readable_txt(excel_path, txt_path):\n",
    "    # Load the Excel file\n",
    "    data = pd.read_excel(excel_path)\n",
    "\n",
    "    # Write to a text file in a more readable format\n",
    "    with open(txt_path, 'w') as file:\n",
    "        for index, row in data.iterrows():\n",
    "            file.write(f\"{'-'*40}\\n\")\n",
    "            for col in data.columns:\n",
    "                file.write(f\"{col}: {row[col]}\\n\")\n",
    "\n",
    "# Example usage:\n",
    "\n"
   ]
  },
  {
   "cell_type": "code",
   "execution_count": 15,
   "metadata": {},
   "outputs": [],
   "source": [
    "file = 'factor_definitions'\n",
    "\n",
    "convert_excel_to_readable_txt(f'{file}.xlsx', f'{file}.txt')"
   ]
  }
 ],
 "metadata": {
  "kernelspec": {
   "display_name": "Python 3",
   "language": "python",
   "name": "python3"
  },
  "language_info": {
   "codemirror_mode": {
    "name": "ipython",
    "version": 3
   },
   "file_extension": ".py",
   "mimetype": "text/x-python",
   "name": "python",
   "nbconvert_exporter": "python",
   "pygments_lexer": "ipython3",
   "version": "3.12.2"
  }
 },
 "nbformat": 4,
 "nbformat_minor": 2
}
